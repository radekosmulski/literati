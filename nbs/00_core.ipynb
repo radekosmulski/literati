{
 "cells": [
  {
   "cell_type": "code",
   "execution_count": null,
   "metadata": {},
   "outputs": [],
   "source": [
    "#| default_exp core"
   ]
  },
  {
   "cell_type": "code",
   "execution_count": null,
   "metadata": {},
   "outputs": [],
   "source": [
    "#| hide\n",
    "from nbdev.showdoc import *"
   ]
  },
  {
   "cell_type": "markdown",
   "metadata": {},
   "source": [
    "# Core"
   ]
  },
  {
   "cell_type": "markdown",
   "metadata": {},
   "source": [
    "## MarkdownProcessor"
   ]
  },
  {
   "cell_type": "code",
   "execution_count": null,
   "metadata": {},
   "outputs": [],
   "source": [
    "#| export\n",
    "from fastcore.basics import *\n",
    "from fastcore.foundation import *\n",
    "from fastcore.test import *\n",
    "from fastcore.script import call_parse, Param\n",
    "\n",
    "from pathlib import Path\n",
    "import re, time\n",
    "import threading\n",
    "\n",
    "from watchdog.observers import Observer\n",
    "from watchdog.events import FileSystemEventHandler\n",
    "\n",
    "\n",
    "class MarkdownProcessor:\n",
    "    \"\"\"Handles the processing of markdown files to extract code blocks\"\"\"\n",
    "    def __init__(self, output_dir='py'):\n",
    "        self.output_dir = Path(output_dir)\n",
    "    \n",
    "    def should_process(self, path):\n",
    "        \"Check if the markdown file should be processed\"\n",
    "        return path.suffix == '.md' and path.name.lower() != 'readme.md'\n",
    "    \n",
    "    def extract_code(self, md_content):\n",
    "        \"Extract code blocks from markdown content\"\n",
    "        pattern = r'`{3}[\\w\\s]*\\n(.*?)`{3}|`([^`]+)`'\n",
    "        code_blocks = []\n",
    "        for match in re.finditer(pattern, md_content, re.DOTALL):\n",
    "            code = match.group(1) or match.group(2)\n",
    "            if code: code_blocks.append(code)\n",
    "        return '\\n'.join(code_blocks)\n",
    "    \n",
    "    def process_file(self, md_path):\n",
    "        \"Process a markdown file and save extracted code\"\n",
    "        if not self.should_process(Path(md_path)): return None\n",
    "        \n",
    "        content = Path(md_path).read_text()\n",
    "        code = self.extract_code(content)\n",
    "        if code:  # only create an output file if any code was extracted\n",
    "            self.output_dir.mkdir(exist_ok=True)\n",
    "            py_path = self.output_dir/f\"{Path(md_path).stem}.py\"\n",
    "            py_path.write_text(code)\n",
    "            return py_path\n",
    "        return None\n",
    "\n",
    "    def process_directory(self, input_dir):\n",
    "        \"Process all markdown files in the given directory\"\n",
    "        input_path = Path(input_dir)\n",
    "        if not input_path.exists():\n",
    "            raise ValueError(f\"Directory {input_dir} does not exist\")\n",
    "        \n",
    "        processed_files_containing_code = []\n",
    "        for md_file in input_path.glob('**/*.md'):  # includes subdirectories\n",
    "            if result := self.process_file(md_file):\n",
    "                processed_files_containing_code.append(result)\n",
    "    \n",
    "        return processed_files_containing_code"
   ]
  },
  {
   "cell_type": "code",
   "execution_count": null,
   "metadata": {},
   "outputs": [],
   "source": [
    "mp = MarkdownProcessor()\n",
    "\n",
    "# Test single backtick\n",
    "test_str = \"Some text `print('hello')`\"\n",
    "test_eq(mp.extract_code(test_str), \"print('hello')\")"
   ]
  },
  {
   "cell_type": "code",
   "execution_count": null,
   "metadata": {},
   "outputs": [
    {
     "name": "stdout",
     "output_type": "stream",
     "text": [
      "Some text\n",
      "```\n",
      "def hello():\n",
      "    print('world')\n",
      "```\n",
      "more text\n"
     ]
    }
   ],
   "source": [
    "# Test triple backtick\n",
    "test_str = \"\"\"Some text\n",
    "```\n",
    "def hello():\n",
    "    print('world')\n",
    "```\n",
    "more text\"\"\"\n",
    "print(test_str)"
   ]
  },
  {
   "cell_type": "code",
   "execution_count": null,
   "metadata": {},
   "outputs": [
    {
     "name": "stdout",
     "output_type": "stream",
     "text": [
      "def hello():\n",
      "    print('world')\n",
      "\n"
     ]
    }
   ],
   "source": [
    "expected = \"def hello():\\n    print('world')\\n\"\n",
    "print(expected)"
   ]
  },
  {
   "cell_type": "code",
   "execution_count": null,
   "metadata": {},
   "outputs": [],
   "source": [
    "test_eq(mp.extract_code(test_str), expected)"
   ]
  },
  {
   "cell_type": "code",
   "execution_count": null,
   "metadata": {},
   "outputs": [],
   "source": [
    "# Test multiple code blocks\n",
    "test_str = \"\"\"```python\n",
    "def hello():\n",
    "    print('world')\n",
    "```\n",
    "Some text\n",
    "```\n",
    "def goodbye():\n",
    "    print('bye')\n",
    "```\"\"\"\n",
    "expected = \"def hello():\\n    print('world')\\n\\ndef goodbye():\\n    print('bye')\\n\"\n",
    "\n",
    "test_eq(mp.extract_code(test_str), expected)"
   ]
  },
  {
   "cell_type": "code",
   "execution_count": null,
   "metadata": {},
   "outputs": [],
   "source": [
    "test_eq(mp.should_process(Path('test.md')), True)\n",
    "test_eq(mp.should_process(Path('test.py')), False)\n",
    "test_eq(mp.should_process(Path('test/test.md')), True)\n",
    "\n",
    "test_eq(mp.should_process(Path('README.md')), False)\n",
    "test_eq(mp.should_process(Path('readme.md')), False)\n",
    "test_eq(mp.should_process(Path('ReadMe.md')), False)"
   ]
  },
  {
   "cell_type": "markdown",
   "metadata": {},
   "source": [
    "Let's check that we are writing the file to disk as expected."
   ]
  },
  {
   "cell_type": "code",
   "execution_count": null,
   "metadata": {},
   "outputs": [],
   "source": [
    "from tempfile import NamedTemporaryFile\n",
    "from tempfile import TemporaryDirectory\n",
    "\n",
    "with TemporaryDirectory() as tmp:\n",
    "    # Setup temporary directories\n",
    "    tmpdir = Path(tmp)\n",
    "    out_dir = tmpdir/'py'\n",
    "    \n",
    "    # Create test markdown file\n",
    "    md_path = tmpdir/'test.md'\n",
    "    md_path.write_text(test_str)\n",
    "    \n",
    "    # Process the file\n",
    "    mp = MarkdownProcessor(output_dir=out_dir)\n",
    "    mp.process_file(md_path)\n",
    "    \n",
    "    # Check results\n",
    "    out_file = out_dir/'test.py'\n",
    "    test_eq(out_file.exists(), True)\n",
    "    test_eq(out_file.read_text(), expected)"
   ]
  },
  {
   "cell_type": "markdown",
   "metadata": {},
   "source": [
    "Let's see if we can process an entire directory as expected."
   ]
  },
  {
   "cell_type": "code",
   "execution_count": null,
   "metadata": {},
   "outputs": [],
   "source": [
    "with TemporaryDirectory() as tmpdir:\n",
    "    tmpdir = Path(tmpdir)\n",
    "\n",
    "    (tmpdir/'test1.md').write_text(test_str)\n",
    "    (tmpdir/'README.md').write_text('# Readme\\n' + test_str)\n",
    "\n",
    "    mp = MarkdownProcessor(output_dir=tmpdir/'py')\n",
    "    processed = mp.process_directory(tmpdir)\n",
    "    \n",
    "    # Verify results\n",
    "    test_eq(len(processed), 1)  # Should process 1 file (excluding README.md)\n",
    "    test_eq((tmpdir/'py'/'test1.py').exists(), True)\n",
    "    \n",
    "    # Check content of processed files\n",
    "    test_eq((tmpdir/'py'/'test1.py').read_text(), expected)"
   ]
  },
  {
   "cell_type": "markdown",
   "metadata": {},
   "source": [
    "## MarkdownWatcher"
   ]
  },
  {
   "cell_type": "code",
   "execution_count": null,
   "metadata": {},
   "outputs": [],
   "source": [
    "#| export\n",
    "class MarkdownWatcher(FileSystemEventHandler):\n",
    "    \"\"\"Watches for markdown file changes and triggers processing\"\"\"\n",
    "    def __init__(self, processor):\n",
    "        self.processor = processor\n",
    "    \n",
    "    def on_modified(self, event):\n",
    "        self.processor.process_file(event.src_path)\n",
    "        \n",
    "    def on_created(self, event):\n",
    "        self.processor.process_file(event.src_path)"
   ]
  },
  {
   "cell_type": "markdown",
   "metadata": {},
   "source": [
    "Now let's test the markdown watcher, with the file created before and while the watcher is running."
   ]
  },
  {
   "cell_type": "code",
   "execution_count": null,
   "metadata": {},
   "outputs": [],
   "source": [
    "# Setup\n",
    "input_dir = Path('input_dir')\n",
    "input_dir.mkdir(exist_ok=True)\n",
    "output_dir = Path('output_py')\n",
    "\n",
    "test_before = Path(input_dir / 'test_before.md')\n",
    "test_before.write_text(test_str)\n",
    "\n",
    "processor = MarkdownProcessor(output_dir=output_dir)\n",
    "handler = MarkdownWatcher(processor)\n",
    "\n",
    "observer = Observer()\n",
    "observer.schedule(handler, str(input_dir), recursive=False)\n",
    "observer.start()\n",
    "\n",
    "test_while = Path(input_dir / 'test_while.md')\n",
    "test_while.write_text(test_str)\n",
    "\n",
    "# Give it a moment to process\n",
    "# By giving it a relatively long time -- 5 seconds! -- we are preventing any intermittent, false failures\n",
    "time.sleep(5)\n",
    "\n",
    "# Test and clean up\n",
    "for stem in ['test_before', 'test_while']:\n",
    "    output_path = output_dir / f'{stem}.py'\n",
    "    test_eq(output_path.exists(), True)\n",
    "    output_path.unlink()\n",
    "output_dir.rmdir()\n",
    "\n",
    "observer.stop()\n",
    "observer.join()\n",
    "\n",
    "test_before.unlink()\n",
    "test_while.unlink()\n",
    "input_dir.rmdir()"
   ]
  },
  {
   "cell_type": "markdown",
   "metadata": {},
   "source": [
    "## CLI commands"
   ]
  },
  {
   "cell_type": "code",
   "execution_count": null,
   "metadata": {},
   "outputs": [],
   "source": [
    "#| export\n",
    "\n",
    "@call_parse\n",
    "def literati(path:Param(\"Directory to monitor\", str)='.', \n",
    "             output_dir:Param(\"Output directory for Python files\", str)='py'):\n",
    "    \"Monitor markdown files and extract code blocks to Python files\"\n",
    "    processor = MarkdownProcessor(output_dir=output_dir)\n",
    "    \n",
    "    # Process existing files first\n",
    "    processor.process_directory(path)\n",
    "    \n",
    "    handler = MarkdownWatcher(processor)\n",
    "    \n",
    "    observer = Observer()\n",
    "    observer.schedule(handler, path, recursive=False)\n",
    "    observer.start()\n",
    "    \n",
    "    print(f\"G'day! Monitoring {path} for markdown files...\")\n",
    "    print(f\"Python files will be saved to {output_dir}/\")\n",
    "    print(\"Optimizing the servo run... (Press Ctrl+C to stop)\")\n",
    "    \n",
    "    try:\n",
    "        while True:\n",
    "            time.sleep(1)\n",
    "    except KeyboardInterrupt:\n",
    "        observer.stop()\n",
    "        observer.join()\n",
    "    \n",
    "    return observer\n",
    "\n",
    "@call_parse\n",
    "def md_to_py(\n",
    "    input_dir: Param(\"Input directory containing markdown files\", str),\n",
    "    output_dir: Param(\"Output directory for Python files\", str)='py'\n",
    "):\n",
    "    \"Convert markdown files in input_dir to Python files in output_dir\"\n",
    "    processor = MarkdownProcessor(output_dir=output_dir)\n",
    "    processed = processor.process_directory(input_dir)\n",
    "    print(f\"Processed {len(processed)} files:\")\n",
    "    for file in processed:\n",
    "        print(f\"  {file}\")"
   ]
  },
  {
   "cell_type": "markdown",
   "metadata": {},
   "source": [
    "We can easily test the `md_to_py` however I haven't found a good way how to test `iterati`. Falling back to manual testing."
   ]
  },
  {
   "cell_type": "code",
   "execution_count": null,
   "metadata": {},
   "outputs": [
    {
     "name": "stdout",
     "output_type": "stream",
     "text": [
      "Processed 1 files:\n",
      "  /var/folders/wt/jbbs6xs16r32mfmphb089_2h0000gn/T/tmpvk0tnpe1/py/test.py\n"
     ]
    }
   ],
   "source": [
    "import signal\n",
    "import subprocess\n",
    "\n",
    "with TemporaryDirectory() as tmpdir:\n",
    "    # Setup\n",
    "    tmpdir = Path(tmpdir)\n",
    "    (tmpdir/'test.md').write_text(test_str)\n",
    "\n",
    "    # Test md_to_py command\n",
    "    try:\n",
    "        md_to_py(str(tmpdir), str(tmpdir/'py'))\n",
    "        test_eq((tmpdir/'py'/'test.py').exists(), True)\n",
    "        test_eq((tmpdir/'py'/'test.py').read_text(), expected)\n",
    "    except Exception as e:\n",
    "        assert False, f\"md_to_py raised an exception: {e}\""
   ]
  },
  {
   "cell_type": "code",
   "execution_count": null,
   "metadata": {},
   "outputs": [],
   "source": [
    "# manual solution to testing iterati, uncomment the code for running and terminate using `interrupt kernel`\n",
    "# make sure to comment it back out before commiting to the library!\n",
    "\n",
    "# !rm -rf py\n",
    "# Path('test.md').write_text(test_str)\n",
    "# literati()\n",
    "# test_eq(Path('py/test.py').read_text(), expected)\n",
    "# !ls py\n",
    "# !rm -rf py"
   ]
  },
  {
   "cell_type": "code",
   "execution_count": null,
   "metadata": {},
   "outputs": [],
   "source": [
    "#| hide\n",
    "import nbdev; nbdev.nbdev_export()"
   ]
  }
 ],
 "metadata": {
  "kernelspec": {
   "display_name": "python3",
   "language": "python",
   "name": "python3"
  }
 },
 "nbformat": 4,
 "nbformat_minor": 4
}
