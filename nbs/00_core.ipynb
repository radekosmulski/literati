{
 "cells": [
  {
   "cell_type": "code",
   "execution_count": null,
   "metadata": {},
   "outputs": [],
   "source": [
    "#| default_exp core"
   ]
  },
  {
   "cell_type": "code",
   "execution_count": null,
   "metadata": {},
   "outputs": [],
   "source": [
    "#| hide\n",
    "from nbdev.showdoc import *"
   ]
  },
  {
   "cell_type": "code",
   "execution_count": null,
   "metadata": {},
   "outputs": [],
   "source": [
    "#| export\n",
    "from fastcore.basics import *\n",
    "from fastcore.foundation import *\n",
    "from fastcore.test import *\n",
    "from fastcore.script import call_parse, Param\n",
    "\n",
    "from pathlib import Path\n",
    "import re, time\n",
    "import threading\n",
    "\n",
    "from watchdog.observers import Observer\n",
    "from watchdog.events import FileSystemEventHandler\n",
    "\n",
    "\n",
    "class MarkdownHandler(FileSystemEventHandler):\n",
    "    \"\"\"Handles markdown file events and extracts code blocks\"\"\"\n",
    "    def __init__(self, output_dir='py'):\n",
    "        self.output_dir = Path(output_dir)\n",
    "        self.output_dir.mkdir(exist_ok=True)\n",
    "    \n",
    "    def should_process(self, path):\n",
    "        \"Check if the markdown file should be processed\"\n",
    "        return path.suffix == '.md' and path.name.lower() != 'readme.md'\n",
    "    \n",
    "    def on_modified(self, event):\n",
    "        path = Path(event.src_path)\n",
    "        if not self.should_process(path): return\n",
    "        self.process_markdown(path)\n",
    "        \n",
    "    def on_created(self, event):\n",
    "        path = Path(event.src_path)\n",
    "        if not self.should_process(path): return\n",
    "        self.process_markdown(path)\n",
    "        \n",
    "    def process_markdown(self, md_path):\n",
    "        \"Process a markdown file and save extracted code\"\n",
    "        content = md_path.read_text()\n",
    "        code = self.extract_code(content)\n",
    "        if code:\n",
    "            py_path = self.output_dir/f\"{md_path.stem}.py\"\n",
    "            py_path.write_text(code)\n",
    "\n",
    "    def extract_code(self, md_content):\n",
    "        \"Extract code blocks from markdown content\"\n",
    "        # Match both single and triple backtick code blocks\n",
    "        pattern = r'`{3}[\\w\\s]*\\n(.*?)`{3}|`([^`]+)`'\n",
    "        code_blocks = []\n",
    "        for match in re.finditer(pattern, md_content, re.DOTALL):\n",
    "            # Get whichever group matched (triple or single backticks)\n",
    "            code = match.group(1) or match.group(2)\n",
    "            if code: code_blocks.append(code)\n",
    "        return '\\n'.join(code_blocks)"
   ]
  },
  {
   "cell_type": "code",
   "execution_count": null,
   "metadata": {},
   "outputs": [],
   "source": [
    "md = MarkdownHandler()\n",
    "\n",
    "# Test single backtick\n",
    "test_str = \"Some text `print('hello')`\"\n",
    "test_eq(md.extract_code(test_str), \"print('hello')\")"
   ]
  },
  {
   "cell_type": "code",
   "execution_count": null,
   "metadata": {},
   "outputs": [
    {
     "name": "stdout",
     "output_type": "stream",
     "text": [
      "Some text\n",
      "```\n",
      "def hello():\n",
      "    print('world')\n",
      "```\n",
      "more text\n"
     ]
    }
   ],
   "source": [
    "# Test triple backtick\n",
    "test_str = \"\"\"Some text\n",
    "```\n",
    "def hello():\n",
    "    print('world')\n",
    "```\n",
    "more text\"\"\"\n",
    "print(test_str)"
   ]
  },
  {
   "cell_type": "code",
   "execution_count": null,
   "metadata": {},
   "outputs": [
    {
     "name": "stdout",
     "output_type": "stream",
     "text": [
      "def hello():\n",
      "    print('world')\n",
      "\n"
     ]
    }
   ],
   "source": [
    "expected = \"def hello():\\n    print('world')\\n\"\n",
    "print(expected)"
   ]
  },
  {
   "cell_type": "code",
   "execution_count": null,
   "metadata": {},
   "outputs": [],
   "source": [
    "test_eq(md.extract_code(test_str), expected)"
   ]
  },
  {
   "cell_type": "code",
   "execution_count": null,
   "metadata": {},
   "outputs": [
    {
     "name": "stdout",
     "output_type": "stream",
     "text": [
      "```python\n",
      "def hello():\n",
      "    print('world')\n",
      "```\n",
      "Some text\n",
      "```\n",
      "def goodbye():\n",
      "    print('bye')\n",
      "```\n"
     ]
    }
   ],
   "source": [
    "# Test multiple code blocks\n",
    "test_str = \"\"\"```python\n",
    "def hello():\n",
    "    print('world')\n",
    "```\n",
    "Some text\n",
    "```\n",
    "def goodbye():\n",
    "    print('bye')\n",
    "```\"\"\"\n",
    "print(test_str)"
   ]
  },
  {
   "cell_type": "code",
   "execution_count": null,
   "metadata": {},
   "outputs": [
    {
     "name": "stdout",
     "output_type": "stream",
     "text": [
      "def hello():\n",
      "    print('world')\n",
      "\n",
      "def goodbye():\n",
      "    print('bye')\n",
      "\n"
     ]
    }
   ],
   "source": [
    "expected = \"def hello():\\n    print('world')\\n\\ndef goodbye():\\n    print('bye')\\n\"\n",
    "print(expected)"
   ]
  },
  {
   "cell_type": "code",
   "execution_count": null,
   "metadata": {},
   "outputs": [],
   "source": [
    "test_eq(md.extract_code(test_str), expected)\n",
    "\n",
    "test_eq(md.should_process(Path('test.md')), True)\n",
    "test_eq(md.should_process(Path('test.py')), False)\n",
    "test_eq(md.should_process(Path('test/test.md')), True)\n",
    "\n",
    "test_eq(md.should_process(Path('README.md')), False)\n",
    "test_eq(md.should_process(Path('readme.md')), False)\n",
    "test_eq(md.should_process(Path('ReadMe.md')), False)"
   ]
  },
  {
   "cell_type": "code",
   "execution_count": null,
   "metadata": {},
   "outputs": [],
   "source": [
    "from tempfile import NamedTemporaryFile\n",
    "\n",
    "def test_process_markdown(): # Create a temporary markdown file\n",
    "    with NamedTemporaryFile(suffix='.md', mode='w', delete=False) as f:\n",
    "        f.write(\"\"\"# Test file Some markdown text\n",
    "```\n",
    "def test_func():\n",
    "    return 42\n",
    "```\n",
    "More text\n",
    "```\n",
    "print('hello')```\"\"\")\n",
    "    md_path = Path(f.name)\n",
    "\n",
    "    # Create handler with temporary output dir\n",
    "    temp_out = Path('temp_test_output')\n",
    "    temp_out.mkdir(exist_ok=True)\n",
    "    md = MarkdownHandler(output_dir=temp_out)\n",
    "\n",
    "    md.process_markdown(md_path)\n",
    "\n",
    "    out_file = temp_out/f\"{md_path.stem}.py\"\n",
    "    test_eq(out_file.exists(), True)\n",
    "    expected = \"def test_func():\\n    return 42\\n\\nprint('hello')\"\n",
    "    test_eq(out_file.read_text().strip(), expected)\n",
    "    \n",
    "    md_path.unlink()\n",
    "    out_file.unlink()\n",
    "    temp_out.rmdir()\n",
    "\n",
    "test_process_markdown()"
   ]
  },
  {
   "cell_type": "code",
   "execution_count": null,
   "metadata": {},
   "outputs": [],
   "source": [
    "#| export\n",
    "\n",
    "@call_parse\n",
    "def literati(path:Param(\"Directory to monitor\", str)='.', \n",
    "             output_dir:Param(\"Output directory for Python files\", str)='py'):\n",
    "    \"Monitor markdown files and extract code blocks to Python files\"\n",
    "    observer = Observer()\n",
    "    handler = MarkdownHandler(output_dir=output_dir)\n",
    "    observer.schedule(handler, path, recursive=False)\n",
    "    observer.start()\n",
    "    \n",
    "    print(f\"G'day! Monitoring {path} for markdown files...\")\n",
    "    print(f\"Python files will be saved to {output_dir}/\")\n",
    "    print(\"Optimizing the servo run... (Press Ctrl+C to stop)\")\n",
    "    \n",
    "    try:\n",
    "        while True:\n",
    "            time.sleep(1)\n",
    "    except KeyboardInterrupt:\n",
    "        observer.stop()\n",
    "    observer.join()"
   ]
  },
  {
   "cell_type": "code",
   "execution_count": null,
   "metadata": {},
   "outputs": [
    {
     "name": "stdout",
     "output_type": "stream",
     "text": [
      "G'day! Monitoring . for markdown files...\n",
      "Python files will be saved to test_py/\n",
      "Optimizing the servo run... (Press Ctrl+C to stop)\n"
     ]
    }
   ],
   "source": [
    "def test_literati():\n",
    "    # Create a simple way to access the observer\n",
    "    observer_container = []\n",
    "    \n",
    "    def run_literati():\n",
    "        obs = literati(path='.', output_dir='test_py')\n",
    "        observer_container.append(obs)\n",
    "    \n",
    "    # Start literati in a separate thread\n",
    "    thread = threading.Thread(target=run_literati)\n",
    "    thread.daemon = True\n",
    "    thread.start()\n",
    "    \n",
    "    # Give it a moment to start\n",
    "    time.sleep(0.5)\n",
    "    \n",
    "    # Verify the output directory was created\n",
    "    test_eq(Path('test_py').exists(), True)\n",
    "    \n",
    "    # Stop the observer properly\n",
    "    if observer_container:\n",
    "        observer_container[0].stop()\n",
    "        observer_container[0].join()\n",
    "    \n",
    "    # Cleanup\n",
    "    Path('test_py').rmdir()\n",
    "\n",
    "test_literati()"
   ]
  },
  {
   "cell_type": "code",
   "execution_count": null,
   "metadata": {},
   "outputs": [],
   "source": [
    "#| hide\n",
    "import nbdev; nbdev.nbdev_export()"
   ]
  }
 ],
 "metadata": {
  "kernelspec": {
   "display_name": "python3",
   "language": "python",
   "name": "python3"
  }
 },
 "nbformat": 4,
 "nbformat_minor": 4
}
