{
 "cells": [
  {
   "cell_type": "code",
   "execution_count": null,
   "metadata": {},
   "outputs": [],
   "source": [
    "#| hide\n",
    "from literati.core import *"
   ]
  },
  {
   "cell_type": "markdown",
   "metadata": {},
   "source": [
    "# literati\n",
    "\n",
    "> Code files you and your LLM can read and your computer can run."
   ]
  },
  {
   "cell_type": "markdown",
   "metadata": {},
   "source": [
    "Jupyter notebook combines prose with code in a notebook. `literati` combines prose with code in a markdown file.\n",
    "\n",
    "## Usage\n",
    "\n",
    "Run `literati`. Create a `<file_name>.md` with your favorite editor.\n",
    "\n",
    "Write code interwoven with markdown:\n",
    "\n",
    "    > Time for some fair dinkum mischief...\n",
    "    Accessing the mainframe to _compile some yarn_.\n",
    "    ```python\n",
    "    def hello():\n",
    "        print(\"G'day, World!!\")\n",
    "    ```\n",
    "\n",
    "Whenever you save your file, `literati` transcribes your file to `py/<file_name>.py` stripping all the markdown. Only the code remains.\n",
    "\n",
    "Run `python py/<file_name>.py` to run your code.\n",
    "\n",
    "### Options\n",
    "\n",
    "- `literati --path /custom/path` - Monitor a different directory\n",
    "- `literati --output-dir custom_output` - Use a different output directory\n",
    "\n",
    "## The Why\n",
    "\n",
    "I wanted to try the following pattern of working with LLMs:\n",
    "\n",
    "- context is your code\n",
    "- when you want to make changes or additions, provide the context to your LLM\n",
    "- ask for modifications\n",
    "- update the context to reflect the new information\n",
    "\n",
    "Context and code, always in sync. For you and your LLM."
   ]
  },
  {
   "cell_type": "markdown",
   "metadata": {},
   "source": [
    "## Installation"
   ]
  },
  {
   "cell_type": "markdown",
   "metadata": {},
   "source": [
    "Install latest from the GitHub [repository][repo]:\n",
    "\n",
    "```sh\n",
    "$ pip install git+https://github.com/radekosmulski/literati.git\n",
    "```\n",
    "\n",
    "or from [pypi][pypi]\n",
    "\n",
    "\n",
    "```sh\n",
    "$ pip install literati\n",
    "```\n",
    "\n",
    "\n",
    "[repo]: https://github.com/radekosmulski/literati\n",
    "[docs]: https://radekosmulski.github.io/literati/\n",
    "[pypi]: https://pypi.org/project/literati/\n",
    "[conda]: https://anaconda.org/radekosmulski/literati"
   ]
  },
  {
   "cell_type": "markdown",
   "metadata": {},
   "source": [
    "### Install literati in Development mode"
   ]
  },
  {
   "cell_type": "markdown",
   "metadata": {},
   "source": [
    "```sh\n",
    "# make sure literati package is installed in development mode\n",
    "$ pip install -e .\n",
    "\n",
    "# make changes under nbs/ directory\n",
    "# ...\n",
    "\n",
    "# compile to have changes apply to literati\n",
    "$ nbdev_prepare\n",
    "```"
   ]
  }
 ],
 "metadata": {
  "kernelspec": {
   "display_name": "python3",
   "language": "python",
   "name": "python3"
  }
 },
 "nbformat": 4,
 "nbformat_minor": 4
}
